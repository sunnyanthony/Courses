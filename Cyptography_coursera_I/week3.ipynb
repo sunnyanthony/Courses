{
 "cells": [
  {
   "attachments": {},
   "cell_type": "markdown",
   "metadata": {},
   "source": [
    "## Using SHA-256 to hash video\n",
    "1. each blocks is 1KB\n",
    "2. encrypt from the end\n",
    "\n",
    "### Case study by course slide\n",
    "* Construction: Merkle-Damgard function\n",
    "![url:https://image.slidesharecdn.com/networksecuritylec5-100403102257-phpapp01/95/network-security-lec5-32-728.jpg?cb=1270290229](https://image.slidesharecdn.com/networksecuritylec5-100403102257-phpapp01/95/network-security-lec5-32-728.jpg?cb=1270290229)\n",
    "* Compression function: Davies-Meyer function\n",
    "![url:https://upload.wikimedia.org/wikipedia/commons/thumb/5/53/Davies-Meyer_hash.svg/230px-Davies-Meyer_hash.svg.png](https://upload.wikimedia.org/wikipedia/commons/thumb/5/53/Davies-Meyer_hash.svg/230px-Davies-Meyer_hash.svg.png)\n",
    "* Block cipher: SHACAL-2\n",
    "    * [sha-2](https://en.wikipedia.org/wiki/SHA-2)"
   ]
  },
  {
   "cell_type": "code",
   "execution_count": 1,
   "metadata": {
    "collapsed": true
   },
   "outputs": [],
   "source": [
    "# import\n",
    "from Crypto.Hash import SHA256"
   ]
  },
  {
   "cell_type": "code",
   "execution_count": 2,
   "metadata": {},
   "outputs": [],
   "source": [
    "def hash_file(file_name):\n",
    "    text = list()\n",
    "    l = None\n",
    "    \n",
    "    with open(file_name, \"rb\") as f:\n",
    "        '''\n",
    "            let it like a stack\n",
    "        '''\n",
    "        p = f.seek(0,2)\n",
    "        f.seek(0,0)\n",
    "        \n",
    "        q, r = divmod(p,1024)\n",
    "        for ite in range(q):\n",
    "            text.insert(0,f.read(1024))\n",
    "        if(r != 0):\n",
    "            text.insert(0,f.read(r))\n",
    "\n",
    "    #h = SHA256.new(m)\n",
    "    for m in (text):\n",
    "        '''\n",
    "            do not need continue hashing\n",
    "        '''\n",
    "        if l:\n",
    "            '''\n",
    "                put the H_i-1 to the f of Hi\n",
    "            '''\n",
    "            h = SHA256.new(m)\n",
    "            h.update(l)\n",
    "        else:\n",
    "            h = SHA256.new()\n",
    "            h.update(m)\n",
    "        l = h.digest()\n",
    "\n",
    "    return h.hexdigest()"
   ]
  },
  {
   "cell_type": "code",
   "execution_count": 3,
   "metadata": {},
   "outputs": [
    {
     "name": "stdout",
     "output_type": "stream",
     "text": [
      "verify    : 03c08f4ee0b576fe319338139c045c89c3e8e9409633bea29442e21425006ea8\n",
      "tag of 6.1: 5b96aece304a1422224f9a41b228416028f9ba26b0d1058f400200f06a589949\n"
     ]
    }
   ],
   "source": [
    "print('verify    : '+hash_file('6.2.birthday.mp4_download'))#should be b'03c08f4ee0b576fe319338139c045c89c3e8e9409633bea29442e21425006ea8'\n",
    "print('tag of 6.1: '+hash_file('6.1.intro.mp4_download'))"
   ]
  }
 ],
 "metadata": {
  "kernelspec": {
   "display_name": "Python 3",
   "language": "python",
   "name": "python3"
  },
  "language_info": {
   "codemirror_mode": {
    "name": "ipython",
    "version": 3
   },
   "file_extension": ".py",
   "mimetype": "text/x-python",
   "name": "python",
   "nbconvert_exporter": "python",
   "pygments_lexer": "ipython3",
   "version": "3.6.2"
  }
 },
 "nbformat": 4,
 "nbformat_minor": 2
}
