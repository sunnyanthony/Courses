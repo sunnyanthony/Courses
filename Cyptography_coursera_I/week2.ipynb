{
 "cells": [
  {
   "cell_type": "markdown",
   "metadata": {},
   "source": [
    "# AES\n",
    "![flow](https://mjtoolbox.files.wordpress.com/2013/01/aes2.jpg)"
   ]
  },
  {
   "cell_type": "markdown",
   "metadata": {},
   "source": [
    "## Something we should know\n",
    "* Rijndael's finite field\n",
    "    * Galois field $2^8$\n",
    "    * operator\n",
    "        1. add \n",
    "            - just xor\n",
    "        2. multiply 2\n",
    "            1. check msb for overflow\n",
    "            2. shift left 1 for multiplication by 2\n",
    "            3. if overflow happened, xor `0x11B` into GF\n",
    "                - mod an irreducible reducing polynomia in GF($2^8$)\n",
    "                - in char-type, we only use `0x1B` instead of `0x11B`\n",
    "        3. multiply 3\n",
    "            - multiply 2 and add 1\n",
    "        4. mod\n",
    "            - use xor instead of subtraction\n",
    "            - an irreducible reducing polynomial\n",
    "                * ${x^8} + {x^4} + {x^3} + x + 1$ in GF($2^8$)\n",
    "* Extended Euclidean algorithm\n",
    "    * use it to get modular multiplicative inverses in GF($2^8$)\n",
    "* Linear algebra\n",
    "    * linear transform a column into another space\n",
    "    * it is invertible\n",
    "    \n",
    "* MixColumn\n",
    "    * Transform\n",
    "    $$\n",
    "     \\left[\n",
    "     \\begin{matrix}\n",
    "       2 & 3 & 1 & 1 \\\\\n",
    "       1 & 2 & 3 & 1 \\\\\n",
    "       1 & 1 & 2 & 3 \\\\\n",
    "       3 & 1 & 1 & 2\n",
    "      \\end{matrix}\n",
    "      \\right]\n",
    "    $$\n",
    "    * Inverse\n",
    "    $$\n",
    "     \\left[\n",
    "     \\begin{matrix}\n",
    "       14 & 11 & 13 & 9 \\\\\n",
    "       9 & 14 & 11 & 13 \\\\\n",
    "       13 & 9 & 14 & 11 \\\\\n",
    "       11 & 13 & 9 & 14\n",
    "      \\end{matrix}\n",
    "      \\right]\n",
    "    $$\n",
    "    * you can use `Galois Multiplication lookup tables` to speedup the Calculation"
   ]
  },
  {
   "cell_type": "code",
   "execution_count": 1,
   "metadata": {
    "collapsed": true
   },
   "outputs": [],
   "source": [
    "from math import floor\n",
    "#import numpy as np\n",
    "class aes:\n",
    "    \n",
    "    def __init__(self,s_box):\n",
    "        self.s_box = s_box\n",
    "\n",
    "    def key_expension(self, key):\n",
    "        '''\n",
    "            todo...\n",
    "        '''\n",
    "        key_list = [key]*10\n",
    "        return key_list\n",
    "        \n",
    "    def AddRoundKey(self, input_v,key):\n",
    "        output = list()\n",
    "        for a,b in zip(input_v,key):\n",
    "            output.append(a ^ b)\n",
    "        return output\n",
    "    \n",
    "    def ByteSub(self, input_v):\n",
    "        for i in range(len(input_v)):\n",
    "             input_v[i] = self.s_box[input_v[i]]\n",
    "                \n",
    "    def ShiftRow(input_v, c=4):\n",
    "        for i in range(floor(len(input_v)/c)):\n",
    "            j = i*c\n",
    "            a = input_v[j:j+c]\n",
    "            if(i>c):\n",
    "                raise ValueError('not N x N matrix')\n",
    "            input_v[j:j+c-i] = a[i:]\n",
    "            input_v[j+c-i:j+c] = a[:i]\n",
    "\n",
    "    def x2_gf(r):\n",
    "        '''\n",
    "                from https://en.wikipedia.org/wiki/Rijndael_MixColumns\n",
    "        '''\n",
    "        a=[]\n",
    "        b=[]\n",
    "        for c in range(0,4):\n",
    "            a[c] = r[c]\n",
    "            #/* h is 0xff if the high bit of r[c] is set, 0 otherwise */\n",
    "            h = r[c] >> 7 #/* arithmetic right shift, thus shifting in either zeros or ones */\n",
    "            b[c] = r[c] << 1 #/* implicitly removes high bit because b[c] is an 8-bit char, so we xor by 0x1b and not 0x11b in the next line */\n",
    "            b[c] = b[c] ^ 0x1B & h #/* Rijndael's Galois field */\n",
    "        return a,b\n",
    "        \n",
    "    def MixColumn(self, input_v, c=4):\n",
    "        for i in range(floor(len(input_v)/c)):\n",
    "            a = list()\n",
    "            for i in range(floor(len(input_v)/c)):\n",
    "                a.append(input_v[i+c*j])\n",
    "            '''\n",
    "                get Galois Multiplication lookup tables for 2 times\n",
    "            '''\n",
    "            a,twotimes = self.x2_gf(a)\n",
    "            for i in range(floor(len(input_v)/c)):\n",
    "                input_v[i+c*j] = twotimes[i] ^ a[i+3 & 0x03] ^ a[i+2 & 0x03] ^ twotimes[i+1 & 0x03] ^ a[i+1 & 0x03] & 0xFF\n",
    "        \n",
    "    def SBoxInit(self):\n",
    "        self.s_box = \\\n",
    "            [0x63, 0x7c, 0x77, 0x7b, 0xf2, 0x6b, 0x6f, 0xc5, 0x30, 0x01, 0x67,\n",
    "            0x2b, 0xfe, 0xd7, 0xab, 0x76, 0xca, 0x82, 0xc9, 0x7d, 0xfa, 0x59,\n",
    "            0x47, 0xf0, 0xad, 0xd4, 0xa2, 0xaf, 0x9c, 0xa4, 0x72, 0xc0, 0xb7,\n",
    "            0xfd, 0x93, 0x26, 0x36, 0x3f, 0xf7, 0xcc, 0x34, 0xa5, 0xe5, 0xf1,\n",
    "            0x71, 0xd8, 0x31, 0x15, 0x04, 0xc7, 0x23, 0xc3, 0x18, 0x96, 0x05,\n",
    "            0x9a, 0x07, 0x12, 0x80, 0xe2, 0xeb, 0x27, 0xb2, 0x75, 0x09, 0x83,\n",
    "            0x2c, 0x1a, 0x1b, 0x6e, 0x5a, 0xa0, 0x52, 0x3b, 0xd6, 0xb3, 0x29,\n",
    "            0xe3, 0x2f, 0x84, 0x53, 0xd1, 0x00, 0xed, 0x20, 0xfc, 0xb1, 0x5b,\n",
    "            0x6a, 0xcb, 0xbe, 0x39, 0x4a, 0x4c, 0x58, 0xcf, 0xd0, 0xef, 0xaa,\n",
    "            0xfb, 0x43, 0x4d, 0x33, 0x85, 0x45, 0xf9, 0x02, 0x7f, 0x50, 0x3c,\n",
    "            0x9f, 0xa8, 0x51, 0xa3, 0x40, 0x8f, 0x92, 0x9d, 0x38, 0xf5, 0xbc,\n",
    "            0xb6, 0xda, 0x21, 0x10, 0xff, 0xf3, 0xd2, 0xcd, 0x0c, 0x13, 0xec,\n",
    "            0x5f, 0x97, 0x44, 0x17, 0xc4, 0xa7, 0x7e, 0x3d, 0x64, 0x5d, 0x19,\n",
    "            0x73, 0x60, 0x81, 0x4f, 0xdc, 0x22, 0x2a, 0x90, 0x88, 0x46, 0xee,\n",
    "            0xb8, 0x14, 0xde, 0x5e, 0x0b, 0xdb, 0xe0, 0x32, 0x3a, 0x0a, 0x49,\n",
    "            0x06, 0x24, 0x5c, 0xc2, 0xd3, 0xac, 0x62, 0x91, 0x95, 0xe4, 0x79,\n",
    "            0xe7, 0xc8, 0x37, 0x6d, 0x8d, 0xd5, 0x4e, 0xa9, 0x6c, 0x56, 0xf4,\n",
    "            0xea, 0x65, 0x7a, 0xae, 0x08, 0xba, 0x78, 0x25, 0x2e, 0x1c, 0xa6,\n",
    "            0xb4, 0xc6, 0xe8, 0xdd, 0x74, 0x1f, 0x4b, 0xbd, 0x8b, 0x8a, 0x70,\n",
    "            0x3e, 0xb5, 0x66, 0x48, 0x03, 0xf6, 0x0e, 0x61, 0x35, 0x57, 0xb9,\n",
    "            0x86, 0xc1, 0x1d, 0x9e, 0xe1, 0xf8, 0x98, 0x11, 0x69, 0xd9, 0x8e,\n",
    "            0x94, 0x9b, 0x1e, 0x87, 0xe9, 0xce, 0x55, 0x28, 0xdf, 0x8c, 0xa1,\n",
    "            0x89, 0x0d, 0xbf, 0xe6, 0x42, 0x68, 0x41, 0x99, 0x2d, 0x0f, 0xb0,\n",
    "            0x54, 0xbb, 0x16]\n",
    "            \n",
    "    def encrypto(self, input_v, key):\n",
    "        i = 0\n",
    "        self.SBoxInit()\n",
    "        keys = self.key_expension(key)\n",
    "        output = copy(input_v)\n",
    "        \n",
    "        for i in range(0,10):\n",
    "            output = self.AddRoundKey(output, keys[i])\n",
    "            self.ByteSub(output)\n",
    "            self.ShiftRow(output)\n",
    "            self.MixColumn(output)\n",
    "\n",
    "        self.ByteSub(output)\n",
    "        self.ShiftRow(output)\n",
    "        output = self.AddRoundKey(output, keys[i])\n",
    "        \n",
    "        return output"
   ]
  },
  {
   "cell_type": "code",
   "execution_count": 2,
   "metadata": {
    "collapsed": true
   },
   "outputs": [],
   "source": [
    "# import\n",
    "from Crypto.Cipher import AES\n",
    "from Crypto import Random\n",
    "from Crypto.Util import Counter\n",
    "import codecs\n",
    "import os"
   ]
  },
  {
   "cell_type": "markdown",
   "metadata": {},
   "source": [
    "## Question 1 and 2"
   ]
  },
  {
   "cell_type": "code",
   "execution_count": 3,
   "metadata": {
    "collapsed": true
   },
   "outputs": [],
   "source": [
    "def decrypto(key,cipher,iv = Random.new().read(AES.block_size), mode=AES.MODE_CBC):\n",
    "    cipher = codecs.decode(cipher, 'hex')\n",
    "    \n",
    "    if mode == AES.MODE_CTR:\n",
    "        ctr = Counter.new(AES.block_size*8,initial_value=int(iv,16))\n",
    "        decryptor = AES.new(key, mode, counter=ctr)\n",
    "        plain = decryptor.decrypt(cipher[AES.block_size:])\n",
    "        return plain\n",
    "    \n",
    "    else:\n",
    "        decryptor = AES.new(key, mode, iv)\n",
    "        plain = decryptor.decrypt(cipher)\n",
    "        return plain[AES.block_size:]"
   ]
  },
  {
   "cell_type": "code",
   "execution_count": 4,
   "metadata": {},
   "outputs": [
    {
     "data": {
      "text/plain": [
       "b'Basic CBC mode encryption needs padding.\\x08\\x08\\x08\\x08\\x08\\x08\\x08\\x08'"
      ]
     },
     "execution_count": 4,
     "metadata": {},
     "output_type": "execute_result"
    }
   ],
   "source": [
    "CBC_key1 = codecs.decode('140b41b22a29beb4061bda66b6747e14', 'hex')\n",
    "CBC_Ciphertext1 = '4ca00ff4c898d61e1edbf1800618fb2828a226d160dad07883d04e008a7897ee2e4b7465d5290d0c0e6c6822236e1daafb94ffe0c5da05d9476be028ad7c1d81'\n",
    "iv = codecs.decode(CBC_Ciphertext1, 'hex')[:16]\n",
    "decrypto(CBC_key1,CBC_Ciphertext1,iv)"
   ]
  },
  {
   "cell_type": "code",
   "execution_count": 5,
   "metadata": {},
   "outputs": [
    {
     "data": {
      "text/plain": [
       "b'Our implementation uses rand. IV\\x10\\x10\\x10\\x10\\x10\\x10\\x10\\x10\\x10\\x10\\x10\\x10\\x10\\x10\\x10\\x10'"
      ]
     },
     "execution_count": 5,
     "metadata": {},
     "output_type": "execute_result"
    }
   ],
   "source": [
    "CBC_key2 = codecs.decode('140b41b22a29beb4061bda66b6747e14', 'hex')\n",
    "CBC_Ciphertext2 = '5b68629feb8606f9a6667670b75b38a5b4832d0f26e1ab7da33249de7d4afc48e713ac646ace36e872ad5fb8a512428a6e21364b0c374df45503473c5242a253'\n",
    "iv = codecs.decode(CBC_Ciphertext2, 'hex')[:16]\n",
    "decrypto(CBC_key2,CBC_Ciphertext2,iv)"
   ]
  },
  {
   "cell_type": "markdown",
   "metadata": {},
   "source": [
    "## Question 3 and 4"
   ]
  },
  {
   "cell_type": "code",
   "execution_count": 6,
   "metadata": {},
   "outputs": [
    {
     "data": {
      "text/plain": [
       "b'CTR mode lets you build a stream cipher from a block cipher.'"
      ]
     },
     "execution_count": 6,
     "metadata": {},
     "output_type": "execute_result"
    }
   ],
   "source": [
    "CTR_key1 = codecs.decode('36f18357be4dbd77f050515c73fcf9f2', 'hex')\n",
    "CTR_Ciphertext_1 = '69dda8455c7dd4254bf353b773304eec0ec7702330098ce7f7520d1cbbb20fc388d1b0adb5054dbd7370849dbf0b88d393f252e764f1f5f7ad97ef79d59ce29f5f51eeca32eabedd9afa9329'\n",
    "iv = codecs.encode(codecs.decode(CTR_Ciphertext_1, 'hex')[:16],'hex')\n",
    "\n",
    "decrypto(CTR_key1, CTR_Ciphertext_1, iv, mode=AES.MODE_CTR)"
   ]
  },
  {
   "cell_type": "code",
   "execution_count": 7,
   "metadata": {},
   "outputs": [
    {
     "data": {
      "text/plain": [
       "b'Always avoid the two time pad!'"
      ]
     },
     "execution_count": 7,
     "metadata": {},
     "output_type": "execute_result"
    }
   ],
   "source": [
    "CTR_Ciphertext_2 = '770b80259ec33beb2561358a9f2dc617e46218c0a53cbeca695ae45faa8952aa0e311bde9d4e01726d3184c34451'\n",
    "iv = codecs.encode(codecs.decode(CTR_Ciphertext_2, 'hex')[:16],'hex')\n",
    "decrypto(CTR_key1, CTR_Ciphertext_2, iv, mode=AES.MODE_CTR)"
   ]
  }
 ],
 "metadata": {
  "kernelspec": {
   "display_name": "Python 3",
   "language": "python",
   "name": "python3"
  },
  "language_info": {
   "codemirror_mode": {
    "name": "ipython",
    "version": 3
   },
   "file_extension": ".py",
   "mimetype": "text/x-python",
   "name": "python",
   "nbconvert_exporter": "python",
   "pygments_lexer": "ipython3",
   "version": "3.6.2"
  }
 },
 "nbformat": 4,
 "nbformat_minor": 2
}
